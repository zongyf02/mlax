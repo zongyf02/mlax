{
 "cells": [
  {
   "attachments": {},
   "cell_type": "markdown",
   "metadata": {},
   "source": [
    "# ResNet Implementation in mlax with Optax optimizers.\n",
    "This notebook uses the [Optax](https://optax.readthedocs.io/en/latest/optax-101.html) JAX optimization library.\n",
    "\n",
    "You can view a full-precision implementation in `resnet.ipynb`.\n",
    "\n",
    "You can view the Pytorch reference implementation in `resnet_reference.ipynb`."
   ]
  },
  {
   "cell_type": "code",
   "execution_count": 1,
   "metadata": {},
   "outputs": [],
   "source": [
    "import jax\n",
    "from jax import (\n",
    "    numpy as jnp,\n",
    "    nn,\n",
    "    random,\n",
    "    lax,\n",
    "    tree_util as jtu\n",
    ")\n",
    "import numpy as np\n",
    "import optax\n",
    "import torchvision\n",
    "from torch.utils.data import DataLoader"
   ]
  },
  {
   "cell_type": "code",
   "execution_count": 2,
   "metadata": {},
   "outputs": [],
   "source": [
    "from mlax import Module\n",
    "from mlax.nn import (\n",
    "    Conv, Scaler, ZNorm, Linear, Bias, F, Series, Parallel\n",
    ")"
   ]
  },
  {
   "attachments": {},
   "cell_type": "markdown",
   "metadata": {},
   "source": [
    "### Load in and batch the CIFAR-10 datasets.\n",
    "We follow this example\n",
    "[Training a Simple Neural Network, with PyTorch Data Loading](https://jax.readthedocs.io/en/latest/notebooks/Neural_Network_and_Data_Loading.html) in using Pytorch dataloaders."
   ]
  },
  {
   "cell_type": "code",
   "execution_count": 3,
   "metadata": {},
   "outputs": [
    {
     "name": "stdout",
     "output_type": "stream",
     "text": [
      "Files already downloaded and verified\n",
      "Files already downloaded and verified\n",
      "(50000, 32, 32, 3)\n",
      "(10000, 32, 32, 3)\n"
     ]
    }
   ],
   "source": [
    "class ToNumpy(object):\n",
    "  def __call__(self, pic):\n",
    "    return np.array(pic)\n",
    "\n",
    "cifar_train = torchvision.datasets.CIFAR10(\n",
    "    root=\"../data\",\n",
    "    train=True,\n",
    "    download=True,\n",
    "    transform = torchvision.transforms.Compose([\n",
    "    torchvision.transforms.AutoAugment(),\n",
    "    ToNumpy()\n",
    "])\n",
    ")\n",
    "cifar_test = torchvision.datasets.CIFAR10(\n",
    "    root=\"../data\",\n",
    "    train=False,\n",
    "    download=True,\n",
    "    transform=ToNumpy()\n",
    ")\n",
    "print(cifar_train.data.shape)\n",
    "print(cifar_test.data.shape)"
   ]
  },
  {
   "cell_type": "code",
   "execution_count": 4,
   "metadata": {},
   "outputs": [
    {
     "name": "stdout",
     "output_type": "stream",
     "text": [
      "391 79\n"
     ]
    }
   ],
   "source": [
    "def numpy_collate(batch):\n",
    "  if isinstance(batch[0], np.ndarray):\n",
    "    return np.stack(batch)\n",
    "  elif isinstance(batch[0], (tuple,list)):\n",
    "    transposed = zip(*batch)\n",
    "    return [numpy_collate(samples) for samples in transposed]\n",
    "  else:\n",
    "    return np.array(batch)\n",
    "\n",
    "batch_size=128\n",
    "train_dataloader = DataLoader(\n",
    "    cifar_train, batch_size, shuffle=True, collate_fn=numpy_collate, num_workers=6\n",
    ")\n",
    "test_dataloader = DataLoader(\n",
    "    cifar_test, batch_size, collate_fn=numpy_collate, num_workers=6\n",
    ")\n",
    "print(len(train_dataloader), len(test_dataloader))"
   ]
  },
  {
   "attachments": {},
   "cell_type": "markdown",
   "metadata": {},
   "source": [
    "### Initialize ResNet model parameters."
   ]
  },
  {
   "cell_type": "code",
   "execution_count": 5,
   "metadata": {},
   "outputs": [
    {
     "name": "stdout",
     "output_type": "stream",
     "text": [
      "(10,)\n",
      "float16\n"
     ]
    }
   ],
   "source": [
    "full_precision = jnp.float32\n",
    "half_precision = jnp.float16\n",
    "\n",
    "# 3x3 channel-last conv block with batchnorm\n",
    "def conv_layers(rng, out_channels, strides):\n",
    "    keys_iter = iter([random.fold_in(rng, i) for i in range(4)])\n",
    "    return [\n",
    "        Conv(next(keys_iter), out_channels, 3, strides, padding=1),\n",
    "        F(lambda x: x.astype(full_precision)),\n",
    "        ZNorm(next(keys_iter), \"channel_last\"),\n",
    "        Scaler(next(keys_iter), (0, 0, -1)),\n",
    "        Bias(next(keys_iter), (0, 0, -1)),\n",
    "        F(lambda x: nn.relu(x.astype(half_precision)))\n",
    "    ]\n",
    "\n",
    "# Residual block without downsampling (H, W, C) -> (H, W, C)\n",
    "class ResBlock1(Module):\n",
    "    def __init__(self, rng, out_channels):\n",
    "        super().__init__()\n",
    "        self.block = Series([\n",
    "            *conv_layers(random.fold_in(rng, 0), out_channels, strides=1),\n",
    "            *conv_layers(random.fold_in(rng, 1), out_channels, strides=1)\n",
    "        ])\n",
    "\n",
    "    def set_up(self, x):\n",
    "        pass\n",
    "    \n",
    "    def forward(self, x, rng=None, inference_mode=False, batch_axis_name=()):\n",
    "        acts, self.block = self.block(x, None, inference_mode, batch_axis_name)\n",
    "        return lax.add(acts, x)\n",
    "\n",
    "# Residual block with downsampling (H, W, C) -> (H // 2, W // 2 2 * C)\n",
    "class ResBlock2(Module):\n",
    "    def __init__(self, rng, out_channels):\n",
    "        super().__init__()\n",
    "        self.block = Parallel([\n",
    "            Series([\n",
    "                *conv_layers(random.fold_in(rng, 0),out_channels, strides=2),\n",
    "                *conv_layers(random.fold_in(rng, 1),out_channels, strides=1)\n",
    "            ]),\n",
    "            Series(conv_layers(random.fold_in(rng, 2), out_channels, strides=2))\n",
    "        ])\n",
    "\n",
    "    def set_up(self, x):\n",
    "        pass\n",
    "\n",
    "    def forward(self, x, rng=None, inference_mode=False, batch_axis_name=()):\n",
    "        acts, self.block = self.block(\n",
    "            [x, x], None, inference_mode, batch_axis_name\n",
    "        )\n",
    "        return lax.add(acts[0], acts[1])\n",
    "\n",
    "keys_iter = iter([random.fold_in(random.PRNGKey(0), i) for i in range(6)])\n",
    "model = Series([\n",
    "    F(lambda x: x.astype(jnp.float16) / 255.0), # To half-precision and scale\n",
    "    *conv_layers(next(keys_iter), 16, strides=1),\n",
    "    ResBlock1(next(keys_iter), 16),\n",
    "    ResBlock2(next(keys_iter), 32),\n",
    "    ResBlock2(next(keys_iter), 64),\n",
    "    F(lambda x: jnp.reshape(x.mean((0, 1)), (-1,))), # Avg pool and flatten\n",
    "    Linear(next(keys_iter), 10),\n",
    "    Bias(next(keys_iter), 10)\n",
    "])\n",
    "\n",
    "# Induce lazy initialization\n",
    "for X, _ in train_dataloader:\n",
    "    activations, _ = model(X[0], None, inference_mode=True)\n",
    "    print(activations.shape)\n",
    "    print(activations.dtype)\n",
    "    break"
   ]
  },
  {
   "attachments": {},
   "cell_type": "markdown",
   "metadata": {},
   "source": [
    "### Define loss function."
   ]
  },
  {
   "cell_type": "code",
   "execution_count": 6,
   "metadata": {},
   "outputs": [],
   "source": [
    "def loss_fn(batched_preds, batched_targets):\n",
    "    return optax.softmax_cross_entropy_with_integer_labels(\n",
    "        batched_preds, batched_targets\n",
    "    ).mean() # Optax returns per-example loss, this returns the mean batch loss"
   ]
  },
  {
   "attachments": {},
   "cell_type": "markdown",
   "metadata": {},
   "source": [
    "### Define optimizer using Optax."
   ]
  },
  {
   "cell_type": "code",
   "execution_count": 7,
   "metadata": {},
   "outputs": [],
   "source": [
    "optimizer = optax.adam(1e-2)\n",
    "optim_state = optimizer.init(model.filter())"
   ]
  },
  {
   "attachments": {},
   "cell_type": "markdown",
   "metadata": {},
   "source": [
    "### Define training and testing steps."
   ]
  },
  {
   "cell_type": "code",
   "execution_count": 8,
   "metadata": {},
   "outputs": [],
   "source": [
    "@jax.jit\n",
    "def train_step(X, y, model, optim_state):\n",
    "    scaling_factor = 2 ** 12\n",
    "\n",
    "    def _model_loss(X, y, trainables, non_trainables):\n",
    "        model = trainables.combine(non_trainables)\n",
    "        preds, model = jax.vmap(\n",
    "            model.__call__,\n",
    "            in_axes = (0, None, None, None),\n",
    "            out_axes = (0, None),\n",
    "            axis_name = \"N\"\n",
    "        )(X, None, False, \"N\")\n",
    "        return loss_fn(preds, y) * scaling_factor, model\n",
    "\n",
    "    # Find batch loss and gradients with resect to trainables\n",
    "    trainables, non_trainables = model.partition()\n",
    "    (loss, model), gradients = jax.value_and_grad(\n",
    "        _model_loss,\n",
    "        argnums=2, # gradients wrt trainables (argument 2 of model_training_loss)\n",
    "        has_aux=True # model is auxiliary data, loss is the true ouput\n",
    "    )(X, y, trainables, non_trainables)\n",
    "\n",
    "    # Loss unscaling\n",
    "    loss = loss / scaling_factor\n",
    "    def unscale_gradients(x):\n",
    "        return x / scaling_factor\n",
    "    gradients = jtu.tree_map(unscale_gradients, gradients)\n",
    "\n",
    "    # Get new gradients and optimizer state\n",
    "    gradients, optim_state = optimizer.update(gradients, optim_state)\n",
    "\n",
    "    # Update parameters with new gradients\n",
    "    trainables, non_trainables = model.partition()\n",
    "    trainables = optax.apply_updates(gradients, trainables)\n",
    "    return loss, trainables.combine(non_trainables), optim_state"
   ]
  },
  {
   "cell_type": "code",
   "execution_count": 9,
   "metadata": {},
   "outputs": [],
   "source": [
    "@jax.jit\n",
    "def test_step(X, y, model):\n",
    "    preds, _ = jax.vmap(\n",
    "        model.__call__,\n",
    "        in_axes = (0, None, None, None),\n",
    "        out_axes = (0, None),\n",
    "        axis_name = \"N\"\n",
    "    )(X, None, True, \"N\")\n",
    "    accurate = (jnp.argmax(preds, axis=1) == y).sum()\n",
    "    return loss_fn(preds, y), accurate"
   ]
  },
  {
   "attachments": {},
   "cell_type": "markdown",
   "metadata": {},
   "source": [
    "### Define training and testing loops."
   ]
  },
  {
   "cell_type": "code",
   "execution_count": 10,
   "metadata": {},
   "outputs": [],
   "source": [
    "def train_epoch(dataloader, model, optim_state):\n",
    "    train_loss = 0.0\n",
    "    for X, y in dataloader:\n",
    "        loss, model, optim_state = train_step(X, y, model, optim_state)\n",
    "        train_loss += loss\n",
    "\n",
    "    print(f\"Train loss: {train_loss / len(dataloader)}\") \n",
    "    return model, optim_state"
   ]
  },
  {
   "cell_type": "code",
   "execution_count": 11,
   "metadata": {},
   "outputs": [],
   "source": [
    "def test(dataloader, model):\n",
    "    test_loss, accurate = 0.0, 0\n",
    "    for X, y in dataloader:\n",
    "        loss, acc = test_step(X, y, model)\n",
    "        test_loss += loss\n",
    "        accurate += acc\n",
    "    \n",
    "    print(f\"Test loss: {test_loss / len(dataloader)}, accuracy: {accurate / len(dataloader.dataset)}\")"
   ]
  },
  {
   "cell_type": "code",
   "execution_count": 12,
   "metadata": {},
   "outputs": [],
   "source": [
    "def train_loop(\n",
    "    train_dataloader,\n",
    "    test_dataloader,\n",
    "    model,\n",
    "    optim_state,\n",
    "    epochs,\n",
    "    test_every\n",
    "):\n",
    "    for i in range(epochs):\n",
    "        epoch = i + 1\n",
    "        print(f\"Epoch {epoch}\\n----------------\")\n",
    "        model, optim_state = train_epoch(train_dataloader, model, optim_state)\n",
    "        if (epoch % test_every == 0):\n",
    "            test(test_dataloader, model)\n",
    "        print(f\"----------------\")\n",
    "    return model, optim_state"
   ]
  },
  {
   "attachments": {},
   "cell_type": "markdown",
   "metadata": {},
   "source": [
    "### Train ResNet on the CIFAR-10 dataset."
   ]
  },
  {
   "cell_type": "code",
   "execution_count": 13,
   "metadata": {},
   "outputs": [
    {
     "name": "stdout",
     "output_type": "stream",
     "text": [
      "Epoch 1\n",
      "----------------\n",
      "Train loss: 1.8212890625\n",
      "----------------\n",
      "Epoch 2\n",
      "----------------\n",
      "Train loss: 1.3623046875\n",
      "----------------\n",
      "Epoch 3\n",
      "----------------\n",
      "Train loss: 1.162109375\n",
      "----------------\n",
      "Epoch 4\n",
      "----------------\n",
      "Train loss: 1.0458984375\n",
      "----------------\n",
      "Epoch 5\n",
      "----------------\n",
      "Train loss: 0.9794921875\n",
      "Test loss: 0.81396484375, accuracy: 0.7161000370979309\n",
      "----------------\n",
      "Epoch 6\n",
      "----------------\n",
      "Train loss: 0.9189453125\n",
      "----------------\n",
      "Epoch 7\n",
      "----------------\n",
      "Train loss: 0.87841796875\n",
      "----------------\n",
      "Epoch 8\n",
      "----------------\n",
      "Train loss: 0.849609375\n",
      "----------------\n",
      "Epoch 9\n",
      "----------------\n",
      "Train loss: 0.822265625\n",
      "----------------\n",
      "Epoch 10\n",
      "----------------\n",
      "Train loss: 0.80224609375\n",
      "Test loss: 0.65673828125, accuracy: 0.7688000202178955\n",
      "----------------\n",
      "Epoch 11\n",
      "----------------\n",
      "Train loss: 0.77734375\n",
      "----------------\n",
      "Epoch 12\n",
      "----------------\n",
      "Train loss: 0.76318359375\n",
      "----------------\n",
      "Epoch 13\n",
      "----------------\n",
      "Train loss: 0.7451171875\n",
      "----------------\n",
      "Epoch 14\n",
      "----------------\n",
      "Train loss: 0.72314453125\n",
      "----------------\n",
      "Epoch 15\n",
      "----------------\n",
      "Train loss: 0.71484375\n",
      "Test loss: 0.69873046875, accuracy: 0.7526000142097473\n",
      "----------------\n",
      "Epoch 16\n",
      "----------------\n",
      "Train loss: 0.7001953125\n",
      "----------------\n",
      "Epoch 17\n",
      "----------------\n",
      "Train loss: 0.69140625\n",
      "----------------\n",
      "Epoch 18\n",
      "----------------\n",
      "Train loss: 0.677734375\n",
      "----------------\n",
      "Epoch 19\n",
      "----------------\n",
      "Train loss: 0.66259765625\n",
      "----------------\n",
      "Epoch 20\n",
      "----------------\n",
      "Train loss: 0.65185546875\n",
      "Test loss: 0.6103515625, accuracy: 0.7895000576972961\n",
      "----------------\n",
      "Epoch 21\n",
      "----------------\n",
      "Train loss: 0.6494140625\n",
      "----------------\n",
      "Epoch 22\n",
      "----------------\n",
      "Train loss: 0.6376953125\n",
      "----------------\n",
      "Epoch 23\n",
      "----------------\n",
      "Train loss: 0.63232421875\n",
      "----------------\n",
      "Epoch 24\n",
      "----------------\n",
      "Train loss: 0.6181640625\n",
      "----------------\n",
      "Epoch 25\n",
      "----------------\n",
      "Train loss: 0.6103515625\n",
      "Test loss: 0.5830078125, accuracy: 0.7968000173568726\n",
      "----------------\n",
      "Epoch 26\n",
      "----------------\n",
      "Train loss: 0.60693359375\n",
      "----------------\n",
      "Epoch 27\n",
      "----------------\n",
      "Train loss: 0.59765625\n",
      "----------------\n",
      "Epoch 28\n",
      "----------------\n",
      "Train loss: 0.58740234375\n",
      "----------------\n",
      "Epoch 29\n",
      "----------------\n",
      "Train loss: 0.57666015625\n",
      "----------------\n",
      "Epoch 30\n",
      "----------------\n",
      "Train loss: 0.578125\n",
      "Test loss: 0.6005859375, accuracy: 0.794700026512146\n",
      "----------------\n",
      "Epoch 31\n",
      "----------------\n",
      "Train loss: 0.5634765625\n",
      "----------------\n",
      "Epoch 32\n",
      "----------------\n",
      "Train loss: 0.55810546875\n",
      "----------------\n",
      "Epoch 33\n",
      "----------------\n",
      "Train loss: 0.54833984375\n",
      "----------------\n",
      "Epoch 34\n",
      "----------------\n",
      "Train loss: 0.55224609375\n",
      "----------------\n",
      "Epoch 35\n",
      "----------------\n",
      "Train loss: 0.5439453125\n",
      "Test loss: 0.603515625, accuracy: 0.7954000234603882\n",
      "----------------\n",
      "Epoch 36\n",
      "----------------\n",
      "Train loss: 0.53662109375\n",
      "----------------\n",
      "Epoch 37\n",
      "----------------\n",
      "Train loss: 0.53515625\n",
      "----------------\n",
      "Epoch 38\n",
      "----------------\n",
      "Train loss: 0.53173828125\n",
      "----------------\n",
      "Epoch 39\n",
      "----------------\n",
      "Train loss: 0.525390625\n",
      "----------------\n",
      "Epoch 40\n",
      "----------------\n",
      "Train loss: 0.525390625\n",
      "Test loss: 0.5859375, accuracy: 0.8005000352859497\n",
      "----------------\n"
     ]
    }
   ],
   "source": [
    "with jax.default_matmul_precision(\"bfloat16\"): # Using lowest precision\n",
    "    new_model, new_optim_state = train_loop(\n",
    "        train_dataloader,\n",
    "        test_dataloader,\n",
    "        model,\n",
    "        optim_state,\n",
    "        40, 5\n",
    "    )"
   ]
  }
 ],
 "metadata": {
  "kernelspec": {
   "display_name": "mlax",
   "language": "python",
   "name": "python3"
  },
  "language_info": {
   "codemirror_mode": {
    "name": "ipython",
    "version": 3
   },
   "file_extension": ".py",
   "mimetype": "text/x-python",
   "name": "python",
   "nbconvert_exporter": "python",
   "pygments_lexer": "ipython3",
   "version": "3.10.12"
  },
  "orig_nbformat": 4,
  "vscode": {
   "interpreter": {
    "hash": "7c3d7272c1eba356ec9149ec42daf5acdf55d6fdb447aefce6509807a5e73802"
   }
  }
 },
 "nbformat": 4,
 "nbformat_minor": 2
}
