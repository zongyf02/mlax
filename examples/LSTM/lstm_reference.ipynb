{
 "cells": [
  {
   "cell_type": "code",
   "execution_count": 1,
   "metadata": {},
   "outputs": [],
   "source": [
    "import torch\n",
    "from torch import nn, optim\n",
    "from torch.utils.data import DataLoader\n",
    "from typing import Tuple\n",
    "\n",
    "from datasets import load_dataset\n",
    "from tokenizers import Tokenizer"
   ]
  },
  {
   "cell_type": "markdown",
   "metadata": {},
   "source": [
    "### Load in the SNLI dataset."
   ]
  },
  {
   "cell_type": "code",
   "execution_count": 2,
   "metadata": {},
   "outputs": [],
   "source": [
    "snli_train = load_dataset(\"snli\", cache_dir=\"../data\", split=\"train\").filter(\n",
    "    lambda d: d[\"label\"] != -1\n",
    ")\n",
    "snli_test = load_dataset(\"snli\", cache_dir=\"../data\", split=\"test\").filter(\n",
    "    lambda d: d[\"label\"] != -1\n",
    ")"
   ]
  },
  {
   "cell_type": "markdown",
   "metadata": {},
   "source": [
    "### Tokenize datasets using a pretrained tokenizer."
   ]
  },
  {
   "cell_type": "code",
   "execution_count": 3,
   "metadata": {},
   "outputs": [],
   "source": [
    "seq_len = 128\n",
    "tokenizer = Tokenizer.from_pretrained(\"roberta-base\")\n",
    "tokenizer.enable_truncation(seq_len)\n",
    "tokenizer.enable_padding(length=seq_len)"
   ]
  },
  {
   "cell_type": "code",
   "execution_count": 4,
   "metadata": {},
   "outputs": [],
   "source": [
    "def tokenization(batch):\n",
    "    encodings = tokenizer.encode_batch(\n",
    "        list(zip(batch[\"premise\"], batch[\"hypothesis\"]))\n",
    "    )\n",
    "    batch[\"ids\"] = [encoding.ids for encoding in encodings]\n",
    "    batch[\"type_ids\"] = [encoding.type_ids for encoding in encodings]\n",
    "    batch[\"mask\"] = [\n",
    "        [not bool(i) for i in encoding.attention_mask] for encoding in encodings\n",
    "    ]\n",
    "    return batch"
   ]
  },
  {
   "cell_type": "code",
   "execution_count": 5,
   "metadata": {},
   "outputs": [],
   "source": [
    "snli_train_tokenized = snli_train.map(\n",
    "    tokenization, batched=True, batch_size=1024, remove_columns=[\"premise\", \"hypothesis\"], \n",
    ")\n",
    "snli_test_tokenized = snli_test.map(\n",
    "    tokenization, batched=True, batch_size=1024, remove_columns=[\"premise\", \"hypothesis\"]\n",
    ")\n",
    "snli_train_tokenized.set_format(type=\"numpy\")\n",
    "snli_test_tokenized.set_format(type=\"numpy\")"
   ]
  },
  {
   "cell_type": "markdown",
   "metadata": {},
   "source": [
    "### Batch the SNLI data with Pytorch dataloaders."
   ]
  },
  {
   "cell_type": "code",
   "execution_count": 6,
   "metadata": {},
   "outputs": [
    {
     "name": "stdout",
     "output_type": "stream",
     "text": [
      "2146 39\n"
     ]
    }
   ],
   "source": [
    "batch_size = 256\n",
    "train_dataloader = DataLoader(snli_train_tokenized, batch_size, shuffle=True, num_workers=0, pin_memory=True)\n",
    "test_dataloader = DataLoader(snli_test_tokenized, batch_size, num_workers=0, pin_memory=True)\n",
    "print(len(train_dataloader), len(test_dataloader))"
   ]
  },
  {
   "cell_type": "code",
   "execution_count": 7,
   "metadata": {},
   "outputs": [
    {
     "name": "stdout",
     "output_type": "stream",
     "text": [
      "cuda\n"
     ]
    }
   ],
   "source": [
    "device = torch.device(\"cuda\" if torch.cuda.is_available() else \"cpu\")\n",
    "print(device)"
   ]
  },
  {
   "cell_type": "markdown",
   "metadata": {},
   "source": [
    "### Build BLSTM model."
   ]
  },
  {
   "cell_type": "code",
   "execution_count": 8,
   "metadata": {},
   "outputs": [
    {
     "name": "stdout",
     "output_type": "stream",
     "text": [
      "Model(\n",
      "  (embed): Embedding(50265, 192)\n",
      "  (type_embed): Embedding(2, 192)\n",
      "  (lstm1): BiLSTM(\n",
      "    (lstm): LSTM(192, 192, batch_first=True, bidirectional=True)\n",
      "    (dropout): Dropout(p=0.1, inplace=False)\n",
      "  )\n",
      "  (lstm2): BiLSTM(\n",
      "    (lstm): LSTM(384, 192, batch_first=True, bidirectional=True)\n",
      "    (dropout): Dropout(p=0.1, inplace=False)\n",
      "  )\n",
      "  (lstm3): BiLSTM(\n",
      "    (lstm): LSTM(384, 192, batch_first=True, bidirectional=True)\n",
      "    (dropout): Dropout(p=0.1, inplace=False)\n",
      "  )\n",
      "  (output_layer): Sequential(\n",
      "    (0): Flatten(start_dim=1, end_dim=-1)\n",
      "    (1): Linear(in_features=49152, out_features=3, bias=True)\n",
      "  )\n",
      ")\n"
     ]
    }
   ],
   "source": [
    "class BiLSTM(nn.Module):\n",
    "    def __init__(self, input_size, hidden_size, dropout=0.1):\n",
    "        super().__init__()\n",
    "        self.lstm = nn.LSTM(\n",
    "            input_size=input_size, hidden_size=hidden_size, batch_first=True, bidirectional=True\n",
    "        )\n",
    "        self.dropout = nn.Dropout(dropout)\n",
    "        \n",
    "    def forward(self, x, mask):\n",
    "        y, _ = self.lstm(x)\n",
    "        if mask is not None:\n",
    "            y = torch.where(torch.unsqueeze(mask, -1), 0, y)\n",
    "        y = self.dropout(y)\n",
    "        return y\n",
    "\n",
    "class Model(nn.Module):\n",
    "    def __init__(self, vocab_size, embed_size=192, dropout=0.1):\n",
    "        super().__init__()\n",
    "\n",
    "        self.embed = nn.Embedding(vocab_size, embed_size)\n",
    "        self.type_embed = nn.Embedding(2, embed_size)\n",
    "\n",
    "        self.lstm1 = BiLSTM(input_size=embed_size, hidden_size=embed_size, dropout=dropout)\n",
    "        self.lstm2 = BiLSTM(input_size=embed_size * 2, hidden_size=embed_size, dropout=dropout)\n",
    "        self.lstm3 = BiLSTM(input_size=embed_size * 2, hidden_size=embed_size, dropout=dropout)\n",
    "\n",
    "        self.output_layer = nn.Sequential(\n",
    "            nn.Flatten(),\n",
    "            nn.Linear(embed_size * seq_len * 2, 3)\n",
    "        )\n",
    "    \n",
    "    def forward(self, ids, type_ids, mask):\n",
    "        # calculate embeddings\n",
    "        embeddings = self.embed(ids)\n",
    "        type_embeddings = self.type_embed(type_ids)\n",
    "        embeddings = embeddings + type_embeddings\n",
    "\n",
    "        # lstm layers\n",
    "        output = self.lstm1(embeddings, mask=mask)\n",
    "        output = self.lstm2(output, mask=mask)\n",
    "        output = self.lstm3(output, mask=mask)\n",
    "\n",
    "        # output layer\n",
    "        output = self.output_layer(output)\n",
    "        return output\n",
    "\n",
    "    \n",
    "model = Model(vocab_size=tokenizer.get_vocab_size()).to(device)\n",
    "print(model)\n",
    "model = torch.jit.script(model)"
   ]
  },
  {
   "cell_type": "markdown",
   "metadata": {},
   "source": [
    "### Define loss function and optimizer."
   ]
  },
  {
   "cell_type": "code",
   "execution_count": 9,
   "metadata": {},
   "outputs": [],
   "source": [
    "loss_fn = nn.CrossEntropyLoss()\n",
    "optimizer = optim.AdamW(model.parameters(), lr=3e-4, weight_decay=1e-2)"
   ]
  },
  {
   "cell_type": "markdown",
   "metadata": {},
   "source": [
    "### Define training and testing steps."
   ]
  },
  {
   "cell_type": "code",
   "execution_count": 10,
   "metadata": {},
   "outputs": [],
   "source": [
    "def train_step(X, y):\n",
    "    loss = loss_fn(model(*X), y)\n",
    "    optimizer.zero_grad()\n",
    "    loss.backward()\n",
    "    optimizer.step()\n",
    "    return loss"
   ]
  },
  {
   "cell_type": "code",
   "execution_count": 11,
   "metadata": {},
   "outputs": [],
   "source": [
    "def test_step(X, y):\n",
    "    with torch.no_grad():\n",
    "        preds = model(*X)\n",
    "        loss = loss_fn(preds, y)\n",
    "    accurate = (preds.argmax(1) == y).type(torch.int).sum()\n",
    "    return loss, accurate"
   ]
  },
  {
   "cell_type": "markdown",
   "metadata": {},
   "source": [
    "### Define training and testing loops."
   ]
  },
  {
   "cell_type": "code",
   "execution_count": 12,
   "metadata": {},
   "outputs": [],
   "source": [
    "def train(dataloader):\n",
    "    model.train()\n",
    "    train_loss = 0.0\n",
    "    for batch in dataloader:\n",
    "        ids, type_ids, mask = batch[\"ids\"], batch[\"type_ids\"], batch[\"mask\"]\n",
    "        ids, type_ids, mask = ids.to(device), type_ids.to(device), mask.to(device)\n",
    "        y = batch[\"label\"].to(device)\n",
    "        train_loss += train_step((ids, type_ids, mask), y).item()\n",
    "\n",
    "    print(f\"Train loss: {train_loss / len(dataloader)}\")"
   ]
  },
  {
   "cell_type": "code",
   "execution_count": 13,
   "metadata": {},
   "outputs": [],
   "source": [
    "def test(dataloader):\n",
    "    model.eval()\n",
    "    test_loss, accurate = 0.0, 0\n",
    "    for batch in dataloader:\n",
    "        ids, type_ids, mask = batch[\"ids\"], batch[\"type_ids\"], batch[\"mask\"]\n",
    "        ids, type_ids, mask = ids.to(device), type_ids.to(device), mask.to(device)\n",
    "        y = batch[\"label\"].to(device)\n",
    "        loss, acc = test_step((ids, type_ids, mask), y)\n",
    "        test_loss += loss.item()\n",
    "        accurate += acc.item()\n",
    "    \n",
    "    print(f\"Test loss: {test_loss / len(dataloader)}, accuracy: {accurate / len(dataloader.dataset)}\")"
   ]
  },
  {
   "cell_type": "code",
   "execution_count": 14,
   "metadata": {},
   "outputs": [],
   "source": [
    "def train_loop(\n",
    "    train_dataloader,\n",
    "    test_dataloader,\n",
    "    epochs,\n",
    "    test_every\n",
    "):\n",
    "    for i in range(epochs):\n",
    "        epoch = (i + 1)\n",
    "        print(f\"Epoch {epoch}\\n----------------\")\n",
    "        train(train_dataloader)\n",
    "        if (epoch % test_every == 0):\n",
    "            test(test_dataloader)\n",
    "        print(f\"----------------\")"
   ]
  },
  {
   "cell_type": "code",
   "execution_count": 15,
   "metadata": {},
   "outputs": [
    {
     "name": "stdout",
     "output_type": "stream",
     "text": [
      "Epoch 1\n",
      "----------------\n"
     ]
    },
    {
     "name": "stdout",
     "output_type": "stream",
     "text": [
      "Train loss: 0.8698259764259815\n",
      "Test loss: 0.7764078470376822, accuracy: 0.6552320846905537\n",
      "----------------\n",
      "Epoch 2\n",
      "----------------\n",
      "Train loss: 0.74628142469527\n",
      "Test loss: 0.7238334188094506, accuracy: 0.6908591205211726\n",
      "----------------\n",
      "Epoch 3\n",
      "----------------\n",
      "Train loss: 0.6850976660111633\n",
      "Test loss: 0.677602320145338, accuracy: 0.711421009771987\n",
      "----------------\n",
      "Epoch 4\n",
      "----------------\n",
      "Train loss: 0.6427557481190699\n",
      "Test loss: 0.6476455682363266, accuracy: 0.7275040716612378\n",
      "----------------\n",
      "Epoch 5\n",
      "----------------\n",
      "Train loss: 0.6066787307604605\n",
      "Test loss: 0.6288116971651713, accuracy: 0.7433835504885994\n",
      "----------------\n",
      "Epoch 6\n",
      "----------------\n",
      "Train loss: 0.5742798765074507\n",
      "Test loss: 0.6162059780878898, accuracy: 0.7478623778501629\n",
      "----------------\n",
      "Epoch 7\n",
      "----------------\n",
      "Train loss: 0.5427057243265622\n",
      "Test loss: 0.6141591240198184, accuracy: 0.7529519543973942\n",
      "----------------\n",
      "Epoch 8\n",
      "----------------\n",
      "Train loss: 0.5116044936453419\n",
      "Test loss: 0.5998173363697834, accuracy: 0.75814332247557\n",
      "----------------\n",
      "Epoch 9\n",
      "----------------\n",
      "Train loss: 0.4798723080951481\n",
      "Test loss: 0.6199294557938209, accuracy: 0.7560057003257329\n",
      "----------------\n",
      "Epoch 10\n",
      "----------------\n",
      "Train loss: 0.44701223664214873\n",
      "Test loss: 0.6431241830190023, accuracy: 0.7575325732899023\n",
      "----------------\n"
     ]
    }
   ],
   "source": [
    "train_loop(train_dataloader, test_dataloader, 10, 1)"
   ]
  }
 ],
 "metadata": {
  "kernelspec": {
   "display_name": "mlax-env",
   "language": "python",
   "name": "python3"
  },
  "language_info": {
   "codemirror_mode": {
    "name": "ipython",
    "version": 3
   },
   "file_extension": ".py",
   "mimetype": "text/x-python",
   "name": "python",
   "nbconvert_exporter": "python",
   "pygments_lexer": "ipython3",
   "version": "3.10.12"
  },
  "orig_nbformat": 4
 },
 "nbformat": 4,
 "nbformat_minor": 2
}
