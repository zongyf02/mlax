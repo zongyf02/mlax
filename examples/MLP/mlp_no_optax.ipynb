{
 "cells": [
  {
   "attachments": {},
   "cell_type": "markdown",
   "metadata": {},
   "source": [
    "# MLP Implementation in mlax without Optax optimizers.\n",
    "This notebook just uses the `mlax` package.\n",
    "\n",
    "You can view the Pytorch reference implementation in `mlp_reference.ipynb`."
   ]
  },
  {
   "cell_type": "code",
   "execution_count": 1,
   "metadata": {},
   "outputs": [],
   "source": [
    "import jax\n",
    "from jax import (\n",
    "    numpy as jnp,\n",
    "    nn,\n",
    "    random\n",
    ")\n",
    "import numpy as np\n",
    "import torchvision\n",
    "from torch.utils.data import DataLoader"
   ]
  },
  {
   "cell_type": "code",
   "execution_count": 2,
   "metadata": {},
   "outputs": [],
   "source": [
    "from mlax.nn import Series, Linear, Bias, F\n",
    "# Local python file containing an SGD optimizer written in JAX.\n",
    "from optim import (\n",
    "    sparse_categorical_crossentropy,\n",
    "    sgd_init,\n",
    "    sgd_step,\n",
    "    apply_updates\n",
    ")"
   ]
  },
  {
   "attachments": {},
   "cell_type": "markdown",
   "metadata": {},
   "source": [
    "### Load in and batch the MNIST datasets.\n",
    "We follow this example\n",
    "[Training a Simple Neural Network, with PyTorch Data Loading](https://jax.readthedocs.io/en/latest/notebooks/Neural_Network_and_Data_Loading.html) in using Pytorch dataloaders."
   ]
  },
  {
   "cell_type": "code",
   "execution_count": 3,
   "metadata": {},
   "outputs": [
    {
     "name": "stdout",
     "output_type": "stream",
     "text": [
      "torch.Size([60000, 28, 28])\n",
      "torch.Size([10000, 28, 28])\n"
     ]
    }
   ],
   "source": [
    "class ToNumpy:\n",
    "  def __call__(self, pic):\n",
    "    return np.array(pic)\n",
    "\n",
    "mnist_train = torchvision.datasets.MNIST(\n",
    "    root=\"../data\",\n",
    "    train=True,\n",
    "    download=True,\n",
    "    transform=ToNumpy()\n",
    ")\n",
    "mnist_test = torchvision.datasets.MNIST(\n",
    "    root=\"../data\",\n",
    "    train=False,\n",
    "    download=True,\n",
    "    transform=ToNumpy()\n",
    ")\n",
    "print(mnist_train.data.shape)\n",
    "print(mnist_test.data.shape)"
   ]
  },
  {
   "cell_type": "code",
   "execution_count": 4,
   "metadata": {},
   "outputs": [
    {
     "name": "stdout",
     "output_type": "stream",
     "text": [
      "469 79\n"
     ]
    }
   ],
   "source": [
    "def numpy_collate(batch):\n",
    "  if isinstance(batch[0], np.ndarray):\n",
    "    return np.stack(batch)\n",
    "  elif isinstance(batch[0], (tuple,list)):\n",
    "    transposed = zip(*batch)\n",
    "    return [numpy_collate(samples) for samples in transposed]\n",
    "  else:\n",
    "    return np.array(batch)\n",
    "\n",
    "batch_size=128\n",
    "train_dataloader = DataLoader(\n",
    "    mnist_train, batch_size=128, shuffle=True, collate_fn=numpy_collate, num_workers=6\n",
    ")\n",
    "test_dataloader = DataLoader(\n",
    "    mnist_test, batch_size=128, collate_fn=numpy_collate, num_workers=6\n",
    ")\n",
    "print(len(train_dataloader), len(test_dataloader))"
   ]
  },
  {
   "attachments": {},
   "cell_type": "markdown",
   "metadata": {},
   "source": [
    "## Build MLP using `mlax.module`"
   ]
  },
  {
   "cell_type": "code",
   "execution_count": 5,
   "metadata": {},
   "outputs": [
    {
     "name": "stdout",
     "output_type": "stream",
     "text": [
      "(10,)\n"
     ]
    }
   ],
   "source": [
    "keys_iter = iter([random.fold_in(random.PRNGKey(0), i) for i in range(6)])\n",
    "model = Series([\n",
    "    F(lambda x: jnp.reshape(x.astype(jnp.float32) / 255.0, (-1,))),  # Flatten and scale\n",
    "    Linear(next(keys_iter), out_features=512),\n",
    "    Bias(next(keys_iter), in_features=512),\n",
    "    F(nn.relu),\n",
    "    Linear(next(keys_iter), out_features=512),\n",
    "    Bias(next(keys_iter), in_features=512),\n",
    "    F(nn.relu),\n",
    "    Linear(next(keys_iter), out_features=10),\n",
    "    Bias(next(keys_iter), in_features=10),\n",
    "    F(nn.softmax)\n",
    "])\n",
    "\n",
    "# Induce lazy initialization\n",
    "for X, _ in train_dataloader:\n",
    "    activations, _ = model(X[0], None, inference_mode=True)\n",
    "    print(activations.shape)\n",
    "    break"
   ]
  },
  {
   "attachments": {},
   "cell_type": "markdown",
   "metadata": {},
   "source": [
    "### Define loss function."
   ]
  },
  {
   "cell_type": "code",
   "execution_count": 6,
   "metadata": {},
   "outputs": [],
   "source": [
    "loss_fn = sparse_categorical_crossentropy"
   ]
  },
  {
   "attachments": {},
   "cell_type": "markdown",
   "metadata": {},
   "source": [
    "### Define optimizer."
   ]
  },
  {
   "cell_type": "code",
   "execution_count": 7,
   "metadata": {},
   "outputs": [],
   "source": [
    "optim_state = sgd_init(model.filter())"
   ]
  },
  {
   "attachments": {},
   "cell_type": "markdown",
   "metadata": {},
   "source": [
    "### Define training and testing steps."
   ]
  },
  {
   "cell_type": "code",
   "execution_count": 8,
   "metadata": {},
   "outputs": [],
   "source": [
    "@jax.jit\n",
    "def train_step(X, y, model, optim_state):\n",
    "    def _model_loss(X, y, trainables, non_trainables):\n",
    "        model = trainables.combine(non_trainables)\n",
    "        preds, model = jax.vmap(\n",
    "            model.__call__,\n",
    "            in_axes = (0, None, None, None),\n",
    "            out_axes = (0, None),\n",
    "            axis_name = \"N\"\n",
    "        )(X, None, False, \"N\")\n",
    "        return loss_fn(preds, y), model\n",
    "\n",
    "    # Find batch loss and gradients with resect to trainables\n",
    "    trainables, non_trainables = model.partition()\n",
    "    (loss, model), gradients = jax.value_and_grad(\n",
    "        _model_loss,\n",
    "        argnums=2, # gradients wrt trainables (argument 2 of model_training_loss)\n",
    "        has_aux=True # model is auxiliary data, loss is the true ouput\n",
    "    )(X, y, trainables, non_trainables)\n",
    "\n",
    "    # Get new gradients and optimizer state\n",
    "    gradients, optim_state = sgd_step(gradients, optim_state)\n",
    "\n",
    "    # Update parameters with new gradients\n",
    "    trainables, non_trainables = model.partition()\n",
    "    trainables = apply_updates(gradients, trainables)\n",
    "    return loss, trainables.combine(non_trainables), optim_state"
   ]
  },
  {
   "cell_type": "code",
   "execution_count": 9,
   "metadata": {},
   "outputs": [],
   "source": [
    "@jax.jit\n",
    "def test_step(X, y, model):\n",
    "    preds, _ = jax.vmap(\n",
    "        model.__call__,\n",
    "        in_axes = (0, None, None, None),\n",
    "        out_axes = (0, None),\n",
    "        axis_name = \"N\"\n",
    "    )(X, None, True, \"N\")\n",
    "    accurate = (jnp.argmax(preds, axis=1) == y).sum()\n",
    "    return loss_fn(preds, y), accurate"
   ]
  },
  {
   "attachments": {},
   "cell_type": "markdown",
   "metadata": {},
   "source": [
    "### Define training and testing loops."
   ]
  },
  {
   "cell_type": "code",
   "execution_count": 10,
   "metadata": {},
   "outputs": [],
   "source": [
    "def train_epoch(dataloader, model, optim_state):\n",
    "    train_loss = 0.0\n",
    "    for X, y in dataloader:\n",
    "        loss, model, optim_state = train_step(X, y, model, optim_state)\n",
    "        train_loss += loss\n",
    "\n",
    "    print(f\"Train loss: {train_loss / len(dataloader)}\") \n",
    "    return model, optim_state"
   ]
  },
  {
   "cell_type": "code",
   "execution_count": 11,
   "metadata": {},
   "outputs": [],
   "source": [
    "def test(dataloader, model):\n",
    "    test_loss, accurate = 0.0, 0\n",
    "    for X, y in dataloader:\n",
    "        loss, acc = test_step(X, y, model)\n",
    "        test_loss += loss\n",
    "        accurate += acc\n",
    "    \n",
    "    print(f\"Test loss: {test_loss / len(dataloader)}, accuracy: {accurate / len(dataloader.dataset)}\")"
   ]
  },
  {
   "cell_type": "code",
   "execution_count": 12,
   "metadata": {},
   "outputs": [],
   "source": [
    "def train_loop(\n",
    "    train_dataloader,\n",
    "    test_dataloader,\n",
    "    model,\n",
    "    optim_state,\n",
    "    epochs,\n",
    "    test_every\n",
    "):\n",
    "    for i in range(epochs):\n",
    "        epoch = i + 1\n",
    "        print(f\"Epoch {epoch}\\n----------------\")\n",
    "        model, optim_state = train_epoch(train_dataloader, model, optim_state)\n",
    "        if (epoch % test_every == 0):\n",
    "            test(test_dataloader, model)\n",
    "        print(f\"----------------\")\n",
    "    return model, optim_state"
   ]
  },
  {
   "attachments": {},
   "cell_type": "markdown",
   "metadata": {},
   "source": [
    "## Train MLP on the MNIST dataset."
   ]
  },
  {
   "cell_type": "code",
   "execution_count": 13,
   "metadata": {},
   "outputs": [
    {
     "name": "stdout",
     "output_type": "stream",
     "text": [
      "Epoch 1\n",
      "----------------\n",
      "Train loss: 0.4833114445209503\n",
      "----------------\n",
      "Epoch 2\n",
      "----------------\n",
      "Train loss: 0.20906268060207367\n",
      "----------------\n",
      "Epoch 3\n",
      "----------------\n",
      "Train loss: 0.15151049196720123\n",
      "----------------\n",
      "Epoch 4\n",
      "----------------\n",
      "Train loss: 0.12000371515750885\n",
      "----------------\n",
      "Epoch 5\n",
      "----------------\n",
      "Train loss: 0.09689024835824966\n",
      "Test loss: 0.104768767952919, accuracy: 0.9689000248908997\n",
      "----------------\n",
      "Epoch 6\n",
      "----------------\n",
      "Train loss: 0.08081857860088348\n",
      "----------------\n",
      "Epoch 7\n",
      "----------------\n",
      "Train loss: 0.06761103868484497\n",
      "----------------\n",
      "Epoch 8\n",
      "----------------\n",
      "Train loss: 0.05835641175508499\n",
      "----------------\n",
      "Epoch 9\n",
      "----------------\n",
      "Train loss: 0.04994918033480644\n",
      "----------------\n",
      "Epoch 10\n",
      "----------------\n",
      "Train loss: 0.04302860423922539\n",
      "Test loss: 0.06607263535261154, accuracy: 0.9784000515937805\n",
      "----------------\n",
      "Epoch 11\n",
      "----------------\n",
      "Train loss: 0.037191569805145264\n",
      "----------------\n",
      "Epoch 12\n",
      "----------------\n",
      "Train loss: 0.032307740300893784\n",
      "----------------\n",
      "Epoch 13\n",
      "----------------\n",
      "Train loss: 0.02855193428695202\n",
      "----------------\n",
      "Epoch 14\n",
      "----------------\n",
      "Train loss: 0.025601178407669067\n",
      "----------------\n",
      "Epoch 15\n",
      "----------------\n",
      "Train loss: 0.02148347534239292\n",
      "Test loss: 0.06232082098722458, accuracy: 0.9801000356674194\n",
      "----------------\n",
      "Epoch 16\n",
      "----------------\n",
      "Train loss: 0.018890930339694023\n",
      "----------------\n",
      "Epoch 17\n",
      "----------------\n",
      "Train loss: 0.016574569046497345\n",
      "----------------\n",
      "Epoch 18\n",
      "----------------\n",
      "Train loss: 0.01454965490847826\n",
      "----------------\n",
      "Epoch 19\n",
      "----------------\n",
      "Train loss: 0.012587489560246468\n",
      "----------------\n",
      "Epoch 20\n",
      "----------------\n",
      "Train loss: 0.011215558275580406\n",
      "Test loss: 0.06046341732144356, accuracy: 0.9811000227928162\n",
      "----------------\n",
      "Epoch 21\n",
      "----------------\n",
      "Train loss: 0.010125312954187393\n",
      "----------------\n",
      "Epoch 22\n",
      "----------------\n",
      "Train loss: 0.0089271767064929\n",
      "----------------\n",
      "Epoch 23\n",
      "----------------\n",
      "Train loss: 0.007949852384626865\n",
      "----------------\n",
      "Epoch 24\n",
      "----------------\n",
      "Train loss: 0.007112192455679178\n",
      "----------------\n",
      "Epoch 25\n",
      "----------------\n",
      "Train loss: 0.00642824312672019\n",
      "Test loss: 0.06109980121254921, accuracy: 0.9820000529289246\n",
      "----------------\n",
      "Epoch 26\n",
      "----------------\n",
      "Train loss: 0.005809644237160683\n",
      "----------------\n",
      "Epoch 27\n",
      "----------------\n",
      "Train loss: 0.005378155503422022\n",
      "----------------\n",
      "Epoch 28\n",
      "----------------\n",
      "Train loss: 0.004879668354988098\n",
      "----------------\n",
      "Epoch 29\n",
      "----------------\n",
      "Train loss: 0.004505547694861889\n",
      "----------------\n",
      "Epoch 30\n",
      "----------------\n",
      "Train loss: 0.004217847250401974\n",
      "Test loss: 0.062037281692028046, accuracy: 0.9823000431060791\n",
      "----------------\n"
     ]
    }
   ],
   "source": [
    "with jax.default_matmul_precision(\"float32\"):\n",
    "    new_model, new_optim_state = train_loop(\n",
    "        train_dataloader,\n",
    "        test_dataloader,\n",
    "        model,\n",
    "        optim_state,\n",
    "        30, 5\n",
    "    )"
   ]
  }
 ],
 "metadata": {
  "kernelspec": {
   "display_name": "mlax",
   "language": "python",
   "name": "python3"
  },
  "language_info": {
   "codemirror_mode": {
    "name": "ipython",
    "version": 3
   },
   "file_extension": ".py",
   "mimetype": "text/x-python",
   "name": "python",
   "nbconvert_exporter": "python",
   "pygments_lexer": "ipython3",
   "version": "3.10.12"
  },
  "orig_nbformat": 4,
  "vscode": {
   "interpreter": {
    "hash": "7c3d7272c1eba356ec9149ec42daf5acdf55d6fdb447aefce6509807a5e73802"
   }
  }
 },
 "nbformat": 4,
 "nbformat_minor": 2
}
