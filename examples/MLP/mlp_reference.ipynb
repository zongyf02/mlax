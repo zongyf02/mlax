{
 "cells": [
  {
   "attachments": {},
   "cell_type": "markdown",
   "metadata": {},
   "source": [
    "# MLP Reference Implementation in Pytorch.\n",
    "\n",
    "This implementation is based on Pytorch's FashionMNIST example in its\n",
    "[quickstart](https://pytorch.org/tutorials/beginner/basics/quickstart_tutorial.html).\n",
    "\n",
    "See the mlax implementation in `mlp.ipynb` notebook."
   ]
  },
  {
   "cell_type": "code",
   "execution_count": 1,
   "metadata": {},
   "outputs": [],
   "source": [
    "import torch\n",
    "from torch import nn, optim\n",
    "from torch.utils.data import DataLoader\n",
    "import torchvision"
   ]
  },
  {
   "attachments": {},
   "cell_type": "markdown",
   "metadata": {},
   "source": [
    "### Load the MNIST dataset."
   ]
  },
  {
   "cell_type": "code",
   "execution_count": 2,
   "metadata": {},
   "outputs": [
    {
     "name": "stdout",
     "output_type": "stream",
     "text": [
      "torch.Size([60000, 28, 28])\n",
      "torch.Size([10000, 28, 28])\n"
     ]
    }
   ],
   "source": [
    "mnist_train = torchvision.datasets.MNIST(\n",
    "    root=\"../data\",\n",
    "    train=True,\n",
    "    download=True,\n",
    "    transform=torchvision.transforms.ToTensor()\n",
    ")\n",
    "mnist_test = torchvision.datasets.MNIST(\n",
    "    root=\"../data\",\n",
    "    train=False,\n",
    "    download=True,\n",
    "    transform=torchvision.transforms.ToTensor()\n",
    ")\n",
    "print(mnist_train.data.shape)\n",
    "print(mnist_test.data.shape)"
   ]
  },
  {
   "attachments": {},
   "cell_type": "markdown",
   "metadata": {},
   "source": [
    "### Batch the MNIST data with Pytorch dataloaders."
   ]
  },
  {
   "cell_type": "code",
   "execution_count": 3,
   "metadata": {},
   "outputs": [
    {
     "name": "stdout",
     "output_type": "stream",
     "text": [
      "469 79\n"
     ]
    }
   ],
   "source": [
    "batch_size = 128\n",
    "train_dataloader = DataLoader(\n",
    "    mnist_train, batch_size, shuffle=True, num_workers=6, pin_memory=True\n",
    ")\n",
    "test_dataloader = DataLoader(\n",
    "    mnist_test, batch_size, num_workers=6, pin_memory=True\n",
    ")\n",
    "print(len(train_dataloader), len(test_dataloader))"
   ]
  },
  {
   "cell_type": "code",
   "execution_count": 4,
   "metadata": {},
   "outputs": [
    {
     "name": "stdout",
     "output_type": "stream",
     "text": [
      "cuda\n"
     ]
    }
   ],
   "source": [
    "device = torch.device(\"cuda\" if torch.cuda.is_available() else \"cpu\")\n",
    "print(device)"
   ]
  },
  {
   "attachments": {},
   "cell_type": "markdown",
   "metadata": {},
   "source": [
    "### Define MLP using modules.\n",
    "We jit-compiled the model for better performance."
   ]
  },
  {
   "cell_type": "code",
   "execution_count": 5,
   "metadata": {},
   "outputs": [
    {
     "name": "stdout",
     "output_type": "stream",
     "text": [
      "MLP(\n",
      "  (flatten): Flatten(start_dim=1, end_dim=-1)\n",
      "  (linear_stack): Sequential(\n",
      "    (0): Linear(in_features=784, out_features=512, bias=True)\n",
      "    (1): ReLU()\n",
      "    (2): Linear(in_features=512, out_features=512, bias=True)\n",
      "    (3): ReLU()\n",
      "    (4): Linear(in_features=512, out_features=10, bias=True)\n",
      "  )\n",
      ")\n"
     ]
    }
   ],
   "source": [
    "class MLP(nn.Module):\n",
    "    def __init__(self):\n",
    "        super().__init__()\n",
    "        self.flatten = nn.Flatten()\n",
    "        self.linear_stack = nn.Sequential(\n",
    "            nn.Linear(28*28, 512),\n",
    "            nn.ReLU(),\n",
    "            nn.Linear(512, 512),\n",
    "            nn.ReLU(),\n",
    "            nn.Linear(512, 10)\n",
    "        )\n",
    "    \n",
    "    def forward(self, batch):\n",
    "        flattened = self.flatten(batch)\n",
    "        logits = self.linear_stack(flattened)\n",
    "        return logits\n",
    "\n",
    "model = MLP().to(device)\n",
    "print(model)\n",
    "model = torch.jit.script(model)"
   ]
  },
  {
   "attachments": {},
   "cell_type": "markdown",
   "metadata": {},
   "source": [
    "### Define loss function and optimizer."
   ]
  },
  {
   "cell_type": "code",
   "execution_count": 7,
   "metadata": {},
   "outputs": [],
   "source": [
    "loss_fn = nn.CrossEntropyLoss()\n",
    "optimizer = optim.SGD(model.parameters(), lr=1e-2, momentum=0.9)"
   ]
  },
  {
   "attachments": {},
   "cell_type": "markdown",
   "metadata": {},
   "source": [
    "### Define training and testing steps."
   ]
  },
  {
   "cell_type": "code",
   "execution_count": 8,
   "metadata": {},
   "outputs": [],
   "source": [
    "def train_step(X, y):\n",
    "    loss = loss_fn(model(X), y)\n",
    "    optimizer.zero_grad()\n",
    "    loss.backward()\n",
    "    optimizer.step()\n",
    "    return loss"
   ]
  },
  {
   "cell_type": "code",
   "execution_count": 9,
   "metadata": {},
   "outputs": [],
   "source": [
    "def test_step(X, y):\n",
    "    with torch.no_grad():\n",
    "        preds = model(X)\n",
    "        loss = loss_fn(preds, y)\n",
    "    accurate = (preds.argmax(1) == y).type(torch.int).sum()\n",
    "    return loss, accurate"
   ]
  },
  {
   "attachments": {},
   "cell_type": "markdown",
   "metadata": {},
   "source": [
    "### Define training and testing loops."
   ]
  },
  {
   "cell_type": "code",
   "execution_count": 10,
   "metadata": {},
   "outputs": [],
   "source": [
    "def train(dataloader):\n",
    "    model.train()\n",
    "    train_loss = 0.0\n",
    "    for X, y in dataloader:\n",
    "        X, y = X.to(device), y.to(device)\n",
    "        train_loss += train_step(X, y).item()\n",
    "\n",
    "    print(f\"Train loss: {train_loss / len(dataloader)}\")"
   ]
  },
  {
   "cell_type": "code",
   "execution_count": 11,
   "metadata": {},
   "outputs": [],
   "source": [
    "def test(dataloader):\n",
    "    model.eval()\n",
    "    test_loss, accurate = 0.0, 0\n",
    "    for X, y in dataloader:\n",
    "        X, y = X.to(device), y.to(device)\n",
    "        loss, acc = test_step(X, y)\n",
    "        test_loss += loss.item()\n",
    "        accurate += acc.item()\n",
    "    \n",
    "    print(f\"Test loss: {test_loss / len(dataloader)}, accuracy: {accurate / len(dataloader.dataset)}\")"
   ]
  },
  {
   "cell_type": "code",
   "execution_count": 12,
   "metadata": {},
   "outputs": [],
   "source": [
    "def train_loop(\n",
    "    train_dataloader,\n",
    "    test_dataloader,\n",
    "    epochs,\n",
    "    test_every\n",
    "):\n",
    "    for i in range(epochs):\n",
    "        epoch = (i + 1)\n",
    "        print(f\"Epoch {epoch}\\n----------------\")\n",
    "        train(train_dataloader)\n",
    "        if (epoch % test_every == 0):\n",
    "            test(test_dataloader)\n",
    "        print(f\"----------------\")"
   ]
  },
  {
   "attachments": {},
   "cell_type": "markdown",
   "metadata": {},
   "source": [
    "### Train MLP on MNIST dataset."
   ]
  },
  {
   "cell_type": "code",
   "execution_count": 13,
   "metadata": {},
   "outputs": [
    {
     "name": "stdout",
     "output_type": "stream",
     "text": [
      "Epoch 1\n",
      "----------------\n",
      "Train loss: 0.7000591684696771\n",
      "----------------\n",
      "Epoch 2\n",
      "----------------\n",
      "Train loss: 0.2604155678516512\n",
      "----------------\n",
      "Epoch 3\n",
      "----------------\n",
      "Train loss: 0.19238585626075008\n",
      "----------------\n",
      "Epoch 4\n",
      "----------------\n",
      "Train loss: 0.1489394486093445\n",
      "----------------\n",
      "Epoch 5\n",
      "----------------\n",
      "Train loss: 0.11897123144713165\n",
      "Test loss: 0.11014873180921556, accuracy: 0.968\n",
      "----------------\n",
      "Epoch 6\n",
      "----------------\n",
      "Train loss: 0.09886586911547413\n",
      "----------------\n",
      "Epoch 7\n",
      "----------------\n",
      "Train loss: 0.08339812173676897\n",
      "----------------\n",
      "Epoch 8\n",
      "----------------\n",
      "Train loss: 0.0700083428552982\n",
      "----------------\n",
      "Epoch 9\n",
      "----------------\n",
      "Train loss: 0.06094559369835137\n",
      "----------------\n",
      "Epoch 10\n",
      "----------------\n",
      "Train loss: 0.05288976564733332\n",
      "Test loss: 0.07200376054823186, accuracy: 0.9765\n",
      "----------------\n",
      "Epoch 11\n",
      "----------------\n",
      "Train loss: 0.04601647154187788\n",
      "----------------\n",
      "Epoch 12\n",
      "----------------\n",
      "Train loss: 0.040308763445821655\n",
      "----------------\n",
      "Epoch 13\n",
      "----------------\n",
      "Train loss: 0.035691861198273805\n",
      "----------------\n",
      "Epoch 14\n",
      "----------------\n",
      "Train loss: 0.0310237257997555\n",
      "----------------\n",
      "Epoch 15\n",
      "----------------\n",
      "Train loss: 0.027525678243257724\n",
      "Test loss: 0.06387361155010914, accuracy: 0.9796\n",
      "----------------\n",
      "Epoch 16\n",
      "----------------\n",
      "Train loss: 0.02448826382206733\n",
      "----------------\n",
      "Epoch 17\n",
      "----------------\n",
      "Train loss: 0.021165644740070235\n",
      "----------------\n",
      "Epoch 18\n",
      "----------------\n",
      "Train loss: 0.018771840932606254\n",
      "----------------\n",
      "Epoch 19\n",
      "----------------\n",
      "Train loss: 0.016126317926235735\n",
      "----------------\n",
      "Epoch 20\n",
      "----------------\n",
      "Train loss: 0.014479119499434413\n",
      "Test loss: 0.05814643897251757, accuracy: 0.982\n",
      "----------------\n",
      "Epoch 21\n",
      "----------------\n",
      "Train loss: 0.012411018134033216\n",
      "----------------\n",
      "Epoch 22\n",
      "----------------\n",
      "Train loss: 0.011320356007562137\n",
      "----------------\n",
      "Epoch 23\n",
      "----------------\n",
      "Train loss: 0.00994121201677935\n",
      "----------------\n",
      "Epoch 24\n",
      "----------------\n",
      "Train loss: 0.008744555999334259\n",
      "----------------\n",
      "Epoch 25\n",
      "----------------\n",
      "Train loss: 0.007933015427760669\n",
      "Test loss: 0.059092921306452086, accuracy: 0.9823\n",
      "----------------\n",
      "Epoch 26\n",
      "----------------\n",
      "Train loss: 0.0070550005186968716\n",
      "----------------\n",
      "Epoch 27\n",
      "----------------\n",
      "Train loss: 0.006264744228177042\n",
      "----------------\n",
      "Epoch 28\n",
      "----------------\n",
      "Train loss: 0.005614875704357857\n",
      "----------------\n",
      "Epoch 29\n",
      "----------------\n",
      "Train loss: 0.005213333605932616\n",
      "----------------\n",
      "Epoch 30\n",
      "----------------\n",
      "Train loss: 0.004619922045606381\n",
      "Test loss: 0.06086132483317128, accuracy: 0.9826\n",
      "----------------\n"
     ]
    }
   ],
   "source": [
    "train_loop(train_dataloader, test_dataloader, 30, 5)"
   ]
  }
 ],
 "metadata": {
  "kernelspec": {
   "display_name": "torch",
   "language": "python",
   "name": "python3"
  },
  "language_info": {
   "codemirror_mode": {
    "name": "ipython",
    "version": 3
   },
   "file_extension": ".py",
   "mimetype": "text/x-python",
   "name": "python",
   "nbconvert_exporter": "python",
   "pygments_lexer": "ipython3",
   "version": "3.10.6"
  },
  "orig_nbformat": 4,
  "vscode": {
   "interpreter": {
    "hash": "6c18ccd7e9828c22dd3d9e0895b6b7ede664ee7a11689b5790cfd0957405a6f2"
   }
  }
 },
 "nbformat": 4,
 "nbformat_minor": 2
}
